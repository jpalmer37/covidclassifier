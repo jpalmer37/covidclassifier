{
 "cells": [
  {
   "cell_type": "markdown",
   "id": "convinced-diving",
   "metadata": {},
   "source": [
    "# Step 1 Pre-Process Data"
   ]
  },
  {
   "cell_type": "code",
   "execution_count": 31,
   "id": "generous-librarian",
   "metadata": {},
   "outputs": [],
   "source": [
    "from pathlib import Path\n",
    "\n",
    "import pandas as pd"
   ]
  },
  {
   "cell_type": "code",
   "execution_count": 29,
   "id": "fancy-hierarchy",
   "metadata": {},
   "outputs": [],
   "source": [
    "# This is not in the repo because it is too big.\n",
    "# Download it from the kaggle site and keep it in the repo.\n",
    "data_dir = Path('sacm2021')\n",
    "\n",
    "train = data_dir / 'TrainImages/TrainImages'\n",
    "test = data_dir / 'TestImages/TestImages'\n",
    "\n",
    "\n",
    "train_images = train.glob('*.png')\n",
    "test_images = train.glob('*.png')\n",
    "\n",
    "\n",
    "# Store a link to the image and the id together in a list\n",
    "# Will turn into a dataframe later\n",
    "# Image label is the numeric part of the image file name\n",
    "# Will extract that using some ~~~string magic~~~\n",
    "training_data_and_id = []\n",
    "\n",
    "for img in train_images:\n",
    "    \n",
    "    image_id = (\n",
    "        str(img).\n",
    "        replace(str(train), '').\n",
    "        replace('.png', '').\n",
    "        replace('/','') \n",
    "    )\n",
    "    \n",
    "    image_id = int(image_id)\n",
    "    \n",
    "    training_data_and_id.append((img, image_id))\n",
    "    "
   ]
  },
  {
   "cell_type": "code",
   "execution_count": 35,
   "id": "dutch-racing",
   "metadata": {},
   "outputs": [],
   "source": [
    "image_frame = pd.DataFrame(training_data_and_id, columns = ['img','id'])\n",
    "labels = pd.read_csv('sacm2021/train.csv')\n",
    "\n",
    "# Combine the labels and the image locations into a single frame\n",
    "df = image_frame.merge(labels)"
   ]
  },
  {
   "cell_type": "code",
   "execution_count": null,
   "id": "southern-coast",
   "metadata": {},
   "outputs": [],
   "source": []
  },
  {
   "cell_type": "code",
   "execution_count": null,
   "id": "limiting-thousand",
   "metadata": {},
   "outputs": [],
   "source": []
  }
 ],
 "metadata": {
  "kernelspec": {
   "display_name": "Python 3",
   "language": "python",
   "name": "python3"
  },
  "language_info": {
   "codemirror_mode": {
    "name": "ipython",
    "version": 3
   },
   "file_extension": ".py",
   "mimetype": "text/x-python",
   "name": "python",
   "nbconvert_exporter": "python",
   "pygments_lexer": "ipython3",
   "version": "3.7.10"
  }
 },
 "nbformat": 4,
 "nbformat_minor": 5
}
